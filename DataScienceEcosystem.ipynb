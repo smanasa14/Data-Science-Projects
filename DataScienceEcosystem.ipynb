{
 "cells": [
  {
   "cell_type": "markdown",
   "id": "e114b756-f44a-4399-a6a1-a5d05304a7af",
   "metadata": {},
   "source": [
    "# Data Science Tools and Ecosystem"
   ]
  },
  {
   "cell_type": "markdown",
   "id": "271e6519-b7bb-4a40-8423-e7a1b2556ff7",
   "metadata": {},
   "source": [
    "### In this notebook, Data Science Tools and Ecosystem are summarized."
   ]
  },
  {
   "cell_type": "markdown",
   "id": "af47a4f9-af8b-49fa-8f55-ebeeb18092b3",
   "metadata": {},
   "source": [
    "##### **Objectives:**\n",
    "- List popular languages for data science.\n",
    "- Learn arithematic expressions.\n",
    "- Learn to use markdown cells with text formatting, inserting tables and ordered/unordered lists."
   ]
  },
  {
   "cell_type": "markdown",
   "id": "8c3d3c91-673b-459e-8e84-2ba9e11b3c0e",
   "metadata": {},
   "source": [
    "### Some of the popular languages that Data Scientists use are:\n",
    "1. Python\n",
    "2. R\n",
    "3. SQL\n",
    "4. SAS\n",
    "5. TensorFlow"
   ]
  },
  {
   "cell_type": "markdown",
   "id": "7464de21-59d4-46f6-86be-7a916bf283c6",
   "metadata": {},
   "source": [
    "### Some of the commonly used libraries used by Data Scientists include:\n",
    "1. NumPy\n",
    "2. GGPlot2\n",
    "3. Pandas\n",
    "4. Matplotlib\n",
    "5. Seaborn"
   ]
  },
  {
   "cell_type": "markdown",
   "id": "869c047e-eb78-40c1-a1b2-ac33283283aa",
   "metadata": {},
   "source": [
    "| Data Science Tools |\n",
    "|------------|\n",
    "| Python |\n",
    "| R |\n",
    "| Jupyter Notebook |\n"
   ]
  },
  {
   "cell_type": "markdown",
   "id": "27ec1c31-055b-49ff-9526-ac9685777ee0",
   "metadata": {},
   "source": [
    "### Below are a few examples of evaluating arithmetic expressions in Python:"
   ]
  },
  {
   "cell_type": "code",
   "execution_count": 1,
   "id": "a3a7ef25-7838-4221-b254-52bb28ebe064",
   "metadata": {
    "tags": []
   },
   "outputs": [
    {
     "data": {
      "text/plain": [
       "17"
      ]
     },
     "execution_count": 1,
     "metadata": {},
     "output_type": "execute_result"
    }
   ],
   "source": [
    "# This a simple arithmetic expression to mutiply then add integers\n",
    "(3*4)+5"
   ]
  },
  {
   "cell_type": "code",
   "execution_count": 2,
   "id": "eca86067-33de-465e-a82d-fb8f061b80f9",
   "metadata": {
    "tags": []
   },
   "outputs": [
    {
     "data": {
      "text/plain": [
       "3.3333333333333335"
      ]
     },
     "execution_count": 2,
     "metadata": {},
     "output_type": "execute_result"
    }
   ],
   "source": [
    "# This will convert 200 minutes to hours by diving by 60\n",
    "200/60"
   ]
  },
  {
   "cell_type": "markdown",
   "id": "c1c36814-fe31-4ac2-b76f-0c9836a5360f",
   "metadata": {},
   "source": [
    "## Author\n",
    "Manasa"
   ]
  },
  {
   "cell_type": "code",
   "execution_count": null,
   "id": "6363e48d-c752-479a-bff8-3cce94c74a11",
   "metadata": {},
   "outputs": [],
   "source": []
  }
 ],
 "metadata": {
  "kernelspec": {
   "display_name": "Python",
   "language": "python",
   "name": "conda-env-python-py"
  },
  "language_info": {
   "codemirror_mode": {
    "name": "ipython",
    "version": 3
   },
   "file_extension": ".py",
   "mimetype": "text/x-python",
   "name": "python",
   "nbconvert_exporter": "python",
   "pygments_lexer": "ipython3",
   "version": "3.7.12"
  }
 },
 "nbformat": 4,
 "nbformat_minor": 5
}
